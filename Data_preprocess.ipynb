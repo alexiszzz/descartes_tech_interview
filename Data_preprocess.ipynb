{
 "cells": [
  {
   "cell_type": "code",
   "execution_count": null,
   "metadata": {},
   "outputs": [],
   "source": [
    "import pandas as pd\n",
    "import numpy as np\n",
    "import matplotlib.pyplot as plt\n",
    "import seaborn as sns\n",
    "\n",
    "from utils.utils import *\n",
    "from sklearn.impute import SimpleImputer\n",
    "from sklearn.model_selection import train_test_split"
   ]
  },
  {
   "cell_type": "markdown",
   "metadata": {},
   "source": [
    "## Data preparation"
   ]
  },
  {
   "cell_type": "markdown",
   "metadata": {},
   "source": [
    "### Load data"
   ]
  },
  {
   "cell_type": "code",
   "execution_count": null,
   "metadata": {},
   "outputs": [],
   "source": [
    "file_path = r'/home/jovyan/descartes_tech_interview/Data/'\n",
    "train = pd.read_csv(file_path + 'train_auto.csv')\n",
    "test = pd.read_csv(file_path + 'test_auto.csv')"
   ]
  },
  {
   "cell_type": "code",
   "execution_count": null,
   "metadata": {},
   "outputs": [],
   "source": [
    "train.columns"
   ]
  },
  {
   "cell_type": "code",
   "execution_count": null,
   "metadata": {},
   "outputs": [],
   "source": [
    "# Only consider TARGET_FLAG\n",
    "train = train.drop('TARGET_AMT', axis=1)\n",
    "test = test.drop('TARGET_AMT', axis=1)"
   ]
  },
  {
   "cell_type": "code",
   "execution_count": null,
   "metadata": {},
   "outputs": [],
   "source": [
    "train.head()"
   ]
  },
  {
   "cell_type": "code",
   "execution_count": null,
   "metadata": {},
   "outputs": [],
   "source": [
    "train.shape"
   ]
  },
  {
   "cell_type": "code",
   "execution_count": null,
   "metadata": {},
   "outputs": [],
   "source": [
    "test.head()"
   ]
  },
  {
   "cell_type": "code",
   "execution_count": null,
   "metadata": {},
   "outputs": [],
   "source": [
    "test.shape"
   ]
  },
  {
   "cell_type": "code",
   "execution_count": null,
   "metadata": {},
   "outputs": [],
   "source": [
    "train_y = train[['INDEX', 'TARGET_FLAG']]\n",
    "train_x = train.loc[:, train.columns != 'TARGET_FLAG']"
   ]
  },
  {
   "cell_type": "code",
   "execution_count": null,
   "metadata": {},
   "outputs": [],
   "source": [
    "test_y = test[['INDEX', 'TARGET_FLAG']]\n",
    "test_x = test.loc[:, test.columns != 'TARGET_FLAG']"
   ]
  },
  {
   "cell_type": "markdown",
   "metadata": {},
   "source": [
    "### Deal with Categorical columns"
   ]
  },
  {
   "cell_type": "code",
   "execution_count": null,
   "metadata": {},
   "outputs": [],
   "source": [
    "train.dtypes"
   ]
  },
  {
   "cell_type": "code",
   "execution_count": null,
   "metadata": {},
   "outputs": [],
   "source": [
    "numeric_col = []\n",
    "categoric_col = []\n",
    "for col in train_x.columns:\n",
    "    if train[col].dtypes != object:\n",
    "        numeric_col.append(col)\n",
    "    else:\n",
    "        categoric_col.append(col)"
   ]
  },
  {
   "cell_type": "code",
   "execution_count": null,
   "metadata": {},
   "outputs": [],
   "source": [
    "categoric_col"
   ]
  },
  {
   "cell_type": "code",
   "execution_count": null,
   "metadata": {},
   "outputs": [],
   "source": [
    "# Handle str columns: 2 types\n",
    "true_categorical_cols = ['PARENT1', 'MSTATUS', 'SEX', 'EDUCATION', 'JOB',\n",
    "                        'CAR_USE', 'CAR_TYPE', 'RED_CAR', 'REVOKED',\n",
    "                        'URBANICITY']\n",
    "num_categorical_cols = ['INCOME', 'HOME_VAL', 'BLUEBOOK',  'OLDCLAIM']"
   ]
  },
  {
   "cell_type": "markdown",
   "metadata": {},
   "source": [
    "### Train data"
   ]
  },
  {
   "cell_type": "code",
   "execution_count": null,
   "metadata": {},
   "outputs": [],
   "source": [
    "# Categorical columns: transfer into nominal numeric variables\n",
    "# Store encoding labels into dict and csv file\n",
    "train_true_cat, labels_dict = to_nominal_df(train_x, true_categorical_cols)\n",
    "df_labels = pd.DataFrame(list(labels_dict.items()), columns=['col_name', 'values'])\n",
    "df_labels.to_csv(file_path + 'numerical_labels.csv')\n",
    "\n",
    "# Money values in str: transfer to float\n",
    "train_num_cat = to_numerical_df(train_x, num_categorical_cols)"
   ]
  },
  {
   "cell_type": "code",
   "execution_count": null,
   "metadata": {},
   "outputs": [],
   "source": [
    "# Merge treated categorical features\n",
    "train_num = pd.merge(train_true_cat, train_num_cat, on=['INDEX'])\n",
    "\n",
    "# Merge all\n",
    "train_num = pd.merge(train_num, train_x[numeric_col], on=['INDEX'])"
   ]
  },
  {
   "cell_type": "markdown",
   "metadata": {},
   "source": [
    "### Test data"
   ]
  },
  {
   "cell_type": "code",
   "execution_count": null,
   "metadata": {},
   "outputs": [],
   "source": [
    "# Categorical columns: transfer into nominal numeric variables\n",
    "test_true_cat = to_nominal_df_test(test_x, labels_dict)\n",
    "\n",
    "# Money values in str: transfer to float\n",
    "test_num_cat = to_numerical_df(test_x, num_categorical_cols)"
   ]
  },
  {
   "cell_type": "code",
   "execution_count": null,
   "metadata": {},
   "outputs": [],
   "source": [
    "# Merge treated categorical features\n",
    "test_num = pd.merge(test_true_cat, test_num_cat, on=['INDEX'])\n",
    "\n",
    "# Merge all\n",
    "test_num = pd.merge(test_num, test_x[numeric_col], on=['INDEX'])"
   ]
  },
  {
   "cell_type": "code",
   "execution_count": null,
   "metadata": {},
   "outputs": [],
   "source": [
    "test_num.dtypes"
   ]
  },
  {
   "cell_type": "markdown",
   "metadata": {},
   "source": [
    "### Handle missing values"
   ]
  },
  {
   "cell_type": "code",
   "execution_count": null,
   "metadata": {},
   "outputs": [],
   "source": [
    "imputer = SimpleImputer(missing_values=np.nan,\n",
    "                        strategy='median')"
   ]
  },
  {
   "cell_type": "markdown",
   "metadata": {},
   "source": [
    "#### Train data"
   ]
  },
  {
   "cell_type": "code",
   "execution_count": null,
   "metadata": {},
   "outputs": [],
   "source": [
    "train_num.isna().sum()"
   ]
  },
  {
   "cell_type": "code",
   "execution_count": null,
   "metadata": {},
   "outputs": [],
   "source": [
    "for col in train_num.columns[test_num.isnull().any()]:\n",
    "    train_num[col] = imputer.fit_transform(train_num[col].values.reshape(-1, 1))"
   ]
  },
  {
   "cell_type": "code",
   "execution_count": null,
   "metadata": {},
   "outputs": [],
   "source": [
    "train_num.isna().sum()"
   ]
  },
  {
   "cell_type": "markdown",
   "metadata": {},
   "source": [
    "#### Test data"
   ]
  },
  {
   "cell_type": "code",
   "execution_count": null,
   "metadata": {},
   "outputs": [],
   "source": [
    "test_num.isna().sum()"
   ]
  },
  {
   "cell_type": "code",
   "execution_count": null,
   "metadata": {},
   "outputs": [],
   "source": [
    "for col in test_num.columns[test_num.isnull().any()]:\n",
    "    test_num[col] = imputer.fit_transform(test_num[col].values.reshape(-1, 1))"
   ]
  },
  {
   "cell_type": "code",
   "execution_count": null,
   "metadata": {},
   "outputs": [],
   "source": [
    "test_num.isna().sum()"
   ]
  },
  {
   "cell_type": "markdown",
   "metadata": {},
   "source": [
    "## Save file"
   ]
  },
  {
   "cell_type": "code",
   "execution_count": null,
   "metadata": {},
   "outputs": [],
   "source": [
    "train_num['TARGET_FLAG'] = train['TARGET_FLAG']\n",
    "train_num.to_csv(file_path + 'train_num.csv', index=False)"
   ]
  },
  {
   "cell_type": "code",
   "execution_count": null,
   "metadata": {},
   "outputs": [],
   "source": [
    "test_num['TARGET_FLAG'] = test['TARGET_FLAG']\n",
    "test_num.to_csv(file_path + 'test_num.csv', index=False)"
   ]
  }
 ],
 "metadata": {
  "kernelspec": {
   "display_name": "Python 3",
   "language": "python",
   "name": "python3"
  },
  "language_info": {
   "codemirror_mode": {
    "name": "ipython",
    "version": 3
   },
   "file_extension": ".py",
   "mimetype": "text/x-python",
   "name": "python",
   "nbconvert_exporter": "python",
   "pygments_lexer": "ipython3",
   "version": "3.8.6"
  }
 },
 "nbformat": 4,
 "nbformat_minor": 4
}
